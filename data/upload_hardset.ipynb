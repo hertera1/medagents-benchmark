{
 "cells": [
  {
   "cell_type": "code",
   "execution_count": 1,
   "metadata": {},
   "outputs": [
    {
     "name": "stderr",
     "output_type": "stream",
     "text": [
      "/home/ubuntu/.local/lib/python3.12/site-packages/tqdm/auto.py:21: TqdmWarning: IProgress not found. Please update jupyter and ipywidgets. See https://ipywidgets.readthedocs.io/en/stable/user_install.html\n",
      "  from .autonotebook import tqdm as notebook_tqdm\n",
      "Creating parquet from Arrow format: 100%|██████████| 1/1 [00:00<00:00, 71.66ba/s]\n",
      "Uploading the dataset shards: 100%|██████████| 1/1 [00:00<00:00,  6.51it/s]\n",
      "Creating parquet from Arrow format: 100%|██████████| 2/2 [00:00<00:00, 79.48ba/s]\n",
      "Uploading the dataset shards: 100%|██████████| 1/1 [00:00<00:00,  1.77it/s]\n"
     ]
    },
    {
     "name": "stdout",
     "output_type": "stream",
     "text": [
      "Uploaded MedQA configuration\n"
     ]
    },
    {
     "name": "stderr",
     "output_type": "stream",
     "text": [
      "Creating parquet from Arrow format: 100%|██████████| 1/1 [00:00<00:00, 582.06ba/s]\n",
      "Uploading the dataset shards: 100%|██████████| 1/1 [00:00<00:00,  9.47it/s]\n",
      "Creating parquet from Arrow format: 100%|██████████| 1/1 [00:00<00:00, 131.98ba/s]\n",
      "Uploading the dataset shards: 100%|██████████| 1/1 [00:00<00:00, 12.10it/s]\n"
     ]
    },
    {
     "name": "stdout",
     "output_type": "stream",
     "text": [
      "Uploaded PubMedQA configuration\n"
     ]
    },
    {
     "name": "stderr",
     "output_type": "stream",
     "text": [
      "Creating parquet from Arrow format: 100%|██████████| 1/1 [00:00<00:00, 1063.46ba/s]\n",
      "Uploading the dataset shards: 100%|██████████| 1/1 [00:00<00:00,  4.63it/s]\n",
      "Creating parquet from Arrow format: 100%|██████████| 3/3 [00:00<00:00, 445.97ba/s]\n",
      "Uploading the dataset shards: 100%|██████████| 1/1 [00:00<00:00, 10.61it/s]\n"
     ]
    },
    {
     "name": "stdout",
     "output_type": "stream",
     "text": [
      "Uploaded MedMCQA configuration\n"
     ]
    },
    {
     "name": "stderr",
     "output_type": "stream",
     "text": [
      "Creating parquet from Arrow format: 100%|██████████| 1/1 [00:00<00:00, 362.05ba/s]\n",
      "Uploading the dataset shards: 100%|██████████| 1/1 [00:00<00:00,  4.13it/s]\n",
      "Creating parquet from Arrow format: 100%|██████████| 1/1 [00:00<00:00, 53.00ba/s]\n",
      "Uploading the dataset shards: 100%|██████████| 1/1 [00:00<00:00,  9.61it/s]\n",
      "No files have been modified since last commit. Skipping to prevent empty commit.\n"
     ]
    },
    {
     "name": "stdout",
     "output_type": "stream",
     "text": [
      "Uploaded MedBullets configuration\n"
     ]
    },
    {
     "name": "stderr",
     "output_type": "stream",
     "text": [
      "Creating parquet from Arrow format: 100%|██████████| 1/1 [00:00<00:00, 751.13ba/s]\n",
      "Uploading the dataset shards: 100%|██████████| 1/1 [00:00<00:00, 11.98it/s]\n",
      "Creating parquet from Arrow format: 100%|██████████| 2/2 [00:00<00:00, 272.82ba/s]\n",
      "Uploading the dataset shards: 100%|██████████| 1/1 [00:00<00:00, 12.85it/s]\n",
      "No files have been modified since last commit. Skipping to prevent empty commit.\n"
     ]
    },
    {
     "name": "stdout",
     "output_type": "stream",
     "text": [
      "Uploaded MMLU configuration\n"
     ]
    },
    {
     "name": "stderr",
     "output_type": "stream",
     "text": [
      "Creating parquet from Arrow format: 100%|██████████| 1/1 [00:00<00:00, 666.19ba/s]\n",
      "Uploading the dataset shards: 100%|██████████| 1/1 [00:00<00:00, 11.17it/s]\n",
      "Creating parquet from Arrow format: 100%|██████████| 1/1 [00:00<00:00, 177.62ba/s]\n",
      "Uploading the dataset shards: 100%|██████████| 1/1 [00:00<00:00, 12.97it/s]\n",
      "No files have been modified since last commit. Skipping to prevent empty commit.\n"
     ]
    },
    {
     "name": "stdout",
     "output_type": "stream",
     "text": [
      "Uploaded MMLU-Pro configuration\n"
     ]
    },
    {
     "name": "stderr",
     "output_type": "stream",
     "text": [
      "Creating parquet from Arrow format: 100%|██████████| 1/1 [00:00<00:00, 590.41ba/s]\n",
      "Uploading the dataset shards: 100%|██████████| 1/1 [00:00<00:00,  8.18it/s]\n",
      "Creating parquet from Arrow format: 100%|██████████| 1/1 [00:00<00:00, 627.51ba/s]\n",
      "Uploading the dataset shards: 100%|██████████| 1/1 [00:00<00:00, 15.24it/s]\n",
      "No files have been modified since last commit. Skipping to prevent empty commit.\n"
     ]
    },
    {
     "name": "stdout",
     "output_type": "stream",
     "text": [
      "Uploaded AfrimedQA configuration\n"
     ]
    },
    {
     "name": "stderr",
     "output_type": "stream",
     "text": [
      "Creating parquet from Arrow format: 100%|██████████| 1/1 [00:00<00:00, 842.91ba/s]\n",
      "Uploading the dataset shards: 100%|██████████| 1/1 [00:00<00:00, 13.67it/s]\n",
      "Creating parquet from Arrow format: 100%|██████████| 1/1 [00:00<00:00, 383.22ba/s]\n",
      "Uploading the dataset shards: 100%|██████████| 1/1 [00:00<00:00,  5.29it/s]\n",
      "No files have been modified since last commit. Skipping to prevent empty commit.\n"
     ]
    },
    {
     "name": "stdout",
     "output_type": "stream",
     "text": [
      "Uploaded MedExQA configuration\n"
     ]
    },
    {
     "name": "stderr",
     "output_type": "stream",
     "text": [
      "Creating parquet from Arrow format: 100%|██████████| 1/1 [00:00<00:00, 465.72ba/s]\n",
      "Uploading the dataset shards: 100%|██████████| 1/1 [00:00<00:00, 15.18it/s]\n",
      "Creating parquet from Arrow format: 100%|██████████| 2/2 [00:00<00:00, 34.99ba/s]\n",
      "Uploading the dataset shards: 100%|██████████| 1/1 [00:00<00:00,  6.30it/s]\n"
     ]
    },
    {
     "name": "stdout",
     "output_type": "stream",
     "text": [
      "Uploaded MedXpertQA-R configuration\n"
     ]
    },
    {
     "name": "stderr",
     "output_type": "stream",
     "text": [
      "Creating parquet from Arrow format: 100%|██████████| 1/1 [00:00<00:00, 298.63ba/s]\n",
      "Uploading the dataset shards: 100%|██████████| 1/1 [00:00<00:00, 11.44it/s]\n",
      "Creating parquet from Arrow format: 100%|██████████| 1/1 [00:00<00:00, 96.12ba/s]\n",
      "Uploading the dataset shards: 100%|██████████| 1/1 [00:00<00:00,  9.82it/s]\n"
     ]
    },
    {
     "name": "stdout",
     "output_type": "stream",
     "text": [
      "Uploaded MedXpertQA-U configuration\n"
     ]
    }
   ],
   "source": [
    "import os\n",
    "import json\n",
    "import glob\n",
    "import pandas as pd\n",
    "from datasets import Dataset, DatasetDict, Features, Value, ClassLabel, load_dataset\n",
    "from huggingface_hub import HfApi, create_repo\n",
    "\n",
    "# Function to load JSON/JSONL files\n",
    "def load_json_file(file_path):\n",
    "    if file_path.endswith('.json'):\n",
    "        with open(file_path, 'r', encoding='utf-8') as f:\n",
    "            return json.load(f)\n",
    "    elif file_path.endswith('.jsonl'):\n",
    "        data = []\n",
    "        with open(file_path, 'r', encoding='utf-8') as f:\n",
    "            for line in f:\n",
    "                data.append(json.loads(line.strip()))\n",
    "        return data\n",
    "    else:\n",
    "        raise ValueError(f\"Unsupported file format: {file_path}\")\n",
    "\n",
    "# Get all test_hard files\n",
    "dataset_map = {\n",
    "    'medqa': 'MedQA',\n",
    "    'pubmedqa': 'PubMedQA', \n",
    "    'medmcqa': 'MedMCQA',\n",
    "    'medbullets': 'MedBullets',\n",
    "    'mmlu': 'MMLU',\n",
    "    'mmlu-pro': 'MMLU-Pro',\n",
    "    'afrimedqa': 'AfrimedQA',\n",
    "    'medexqa': 'MedExQA',\n",
    "    'medxpertqa-r': 'MedXpertQA-R',\n",
    "    'medxpertqa-u': 'MedXpertQA-U',\n",
    "}\n",
    "\n",
    "\n",
    "# Create a dataset dictionary to store all subsets\n",
    "datasets = {}\n",
    "\n",
    "# Find all hard files\n",
    "hard_files = []\n",
    "for dataset_key, dataset_name in dataset_map.items():\n",
    "    dataset_dict = DatasetDict()\n",
    "    file_path = f\"{dataset_key}/test_hard.jsonl\"\n",
    "    data = load_json_file(file_path)\n",
    "    dataset = Dataset.from_pandas(pd.DataFrame(data))\n",
    "    dataset_dict['test_hard'] = dataset\n",
    "    \n",
    "    file_path = f\"{dataset_key}/test.jsonl\"\n",
    "    data = load_json_file(file_path)\n",
    "    dataset = Dataset.from_pandas(pd.DataFrame(data))\n",
    "    dataset_dict['test'] = dataset\n",
    "    datasets[dataset_name] = dataset_dict\n",
    "\n",
    "repo_name = \"medagents-benchmark\"\n",
    "# Push to hub with config names for each su set\n",
    "for dataset_name, dataset_dict in datasets.items():\n",
    "    dataset_dict.push_to_hub(\n",
    "        repo_id=repo_name,\n",
    "        config_name=dataset_name,\n",
    "        private=False\n",
    "    )\n",
    "    print(f\"Uploaded {dataset_name} configuration\")"
   ]
  },
  {
   "cell_type": "code",
   "execution_count": 3,
   "metadata": {},
   "outputs": [
    {
     "name": "stdout",
     "output_type": "stream",
     "text": [
      "Saved 894 items to full_hard_dataset.jsonl\n"
     ]
    }
   ],
   "source": [
    "dataset_data = []\n",
    "for dataset_key, dataset_name in dataset_map.items():\n",
    "    for item in datasets[dataset_name]['test_hard']:\n",
    "        # Format the data in the required format\n",
    "        formatted_item = {\n",
    "            \"question\": item[\"question\"],\n",
    "            \"answer\": item[\"answer_idx\"]\n",
    "        }\n",
    "        \n",
    "        # Add options if they exist\n",
    "        if \"options\" in item:\n",
    "            for key, value in item[\"options\"].items():\n",
    "                formatted_item[key] = value\n",
    "\n",
    "        dataset_data.append(formatted_item)\n",
    "    \n",
    "# Save to a JSONL file\n",
    "with open(f\"full_hard_dataset.jsonl\", \"w\", encoding=\"utf-8\") as f:\n",
    "    for item in dataset_data:\n",
    "        f.write(json.dumps(item) + \"\\n\")\n",
    "\n",
    "print(f\"Saved {len(dataset_data)} items to full_hard_dataset.jsonl\")"
   ]
  }
 ],
 "metadata": {
  "kernelspec": {
   "display_name": "Python 3",
   "language": "python",
   "name": "python3"
  },
  "language_info": {
   "codemirror_mode": {
    "name": "ipython",
    "version": 3
   },
   "file_extension": ".py",
   "mimetype": "text/x-python",
   "name": "python",
   "nbconvert_exporter": "python",
   "pygments_lexer": "ipython3",
   "version": "3.12.3"
  }
 },
 "nbformat": 4,
 "nbformat_minor": 2
}
